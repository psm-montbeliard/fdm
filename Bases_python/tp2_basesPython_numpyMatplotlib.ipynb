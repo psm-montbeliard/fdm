{
  "nbformat": 4,
  "nbformat_minor": 0,
  "metadata": {
    "kernelspec": {
      "display_name": "Python 3",
      "language": "python",
      "name": "python3"
    },
    "language_info": {
      "codemirror_mode": {
        "name": "ipython",
        "version": 3
      },
      "file_extension": ".py",
      "mimetype": "text/x-python",
      "name": "python",
      "nbconvert_exporter": "python",
      "pygments_lexer": "ipython3",
      "version": "3.7.4"
    },
    "colab": {
      "name": "tp2_basesPython_numpyMatplotlib.ipynb",
      "provenance": [],
      "collapsed_sections": [],
      "toc_visible": true,
      "include_colab_link": true
    }
  },
  "cells": [
    {
      "cell_type": "markdown",
      "metadata": {
        "id": "view-in-github",
        "colab_type": "text"
      },
      "source": [
        "<a href=\"https://colab.research.google.com/github/psm-montbeliard/fdm/blob/master/Bases_python/tp2_basesPython_numpyMatplotlib.ipynb\" target=\"_parent\"><img src=\"https://colab.research.google.com/assets/colab-badge.svg\" alt=\"Open In Colab\"/></a>"
      ]
    },
    {
      "cell_type": "markdown",
      "metadata": {
        "id": "gpVT4Fq1O4_O",
        "colab_type": "text"
      },
      "source": [
        "# Fondements du multimédia\n",
        "## TP2 - Bases de python\n",
        "\n",
        "Aymeric Bouchereau - aymeric.bouchereau@edu.univ-fcomte.fr -\n",
        "Master 1 Design / UFR STGI Montbéliard / 2020-2021\n",
        "\n",
        "Les deux premières séances de TP de Fondements de Multimédia sont consacrées aux bases du langage de programmation Python. Vous travaillerez avec l’IDLE (Integrated DeveLopment Environment, environnement de développement intégré) et Jupyter Notebook. Ces outils seront utilisés pour les TP sur les Transformations colorimétriques. Les connaissances utilisées lors de ces deux premières séances seront indispensables pour la suite et seront dès lors considérées comme acquises.\n",
        "\n",
        "Les exercices de cette séance sont **à rendre sur Moodle au plus tard le 23 septembre 2020** sous la forme d’un notebook nommé : **2020_nom_tpBasesPython.ipynb**. Le notebook doit avoir un en- tête personnalisé en Markdown et des commentaires.\n",
        "\n",
        "* [Accéder au cours Moodle](https://moodle.univ-fcomte.fr/course/view.php?id=2886)\n",
        "* [Rendre les TP sur Moodle](https://moodle.univ-fcomte.fr/mod/assign/view.php?id=336975)"
      ]
    },
    {
      "cell_type": "markdown",
      "metadata": {
        "id": "rag9kChVO4_Q",
        "colab_type": "text"
      },
      "source": [
        "Durant cette séance, vous utiliserez les bibliothèques Numpy (pour manipuler des tableaux et\n",
        "faire des opérations dessus) et Matplotlib (pour créer des graphiques). Pour importer une\n",
        "bibliothèque :\n",
        "```import mon_package as surnom_de_mon_package```"
      ]
    },
    {
      "cell_type": "markdown",
      "metadata": {
        "id": "WiqvNNqqO4_S",
        "colab_type": "text"
      },
      "source": [
        "## Numpy\n",
        "\n",
        "* Exemples avec NumPy : https://colab.research.google.com/drive/1VnQkQ0jLLA30TZxwedgMBSyMjNO2VO60"
      ]
    },
    {
      "cell_type": "markdown",
      "metadata": {
        "id": "hWwwcdCQO4_T",
        "colab_type": "text"
      },
      "source": [
        "Créer un vecteur contenant la table de 2 (de 0 à 20 inclus) en utilisant la fonction ```np.arange()```. [Documentation pour utiliser la fonction np.arange()](https://docs.scipy.org/doc/numpy/reference/generated/numpy.arange.html)"
      ]
    },
    {
      "cell_type": "code",
      "metadata": {
        "id": "ja0V0uUHO4_U",
        "colab_type": "code",
        "colab": {}
      },
      "source": [
        ""
      ],
      "execution_count": null,
      "outputs": []
    },
    {
      "cell_type": "markdown",
      "metadata": {
        "id": "kAVpsWReO4_Y",
        "colab_type": "text"
      },
      "source": [
        "Afficher le nombre de dimensions et la taille du vecteur.\n",
        "Créer un nouveau vecteur à partir du précédent, mais en excluant le 0 avec le slicing (pour sélectionner les valeurs qui vous intéressent : ```[debut:fin:pas]```)."
      ]
    },
    {
      "cell_type": "code",
      "metadata": {
        "id": "YtxFpq7JO4_Z",
        "colab_type": "code",
        "colab": {}
      },
      "source": [
        ""
      ],
      "execution_count": null,
      "outputs": []
    },
    {
      "cell_type": "markdown",
      "metadata": {
        "id": "roYi1-BuO4_c",
        "colab_type": "text"
      },
      "source": [
        "Créer une matrice de dimension 4x4 et l’afficher. En utilisant le slicing, afficher successivement :\n",
        "* Uniquement la troisième ligne ;\n",
        "* La valeur située en dernière position de la troisième ligne ;\n",
        "* Uniquement les quatre valeurs au centre de la matrice ;\n",
        "* Uniquement la deuxième et la quatrième colonne ;\n",
        "* Les valeurs de deuxième colonne multipliées par 7 ;"
      ]
    },
    {
      "cell_type": "code",
      "metadata": {
        "id": "I2yFDDDNO4_d",
        "colab_type": "code",
        "colab": {}
      },
      "source": [
        ""
      ],
      "execution_count": null,
      "outputs": []
    },
    {
      "cell_type": "markdown",
      "metadata": {
        "id": "4HtQygvbO4_j",
        "colab_type": "text"
      },
      "source": [
        "## Numpy et Matplotlib\n",
        "\n",
        "* Exemples avec Matplotlib : https://colab.research.google.com/drive/1XjWKM13IV7IwsY6_Lidc0Tezs_URS6xQ\n",
        "* Personnaliser un graphique : https://python-graph-gallery.com/matplotlib/"
      ]
    },
    {
      "cell_type": "markdown",
      "metadata": {
        "id": "Jujqu4okO4_k",
        "colab_type": "text"
      },
      "source": [
        "Afficher les courbes des fonctions sinus et cosinus. Pour cette exercice, vous pouvez utiliser les fonctions ```np.sin()``` et ```np.cos()``` du package Numpy."
      ]
    },
    {
      "cell_type": "code",
      "metadata": {
        "id": "cYF5Y27_O4_l",
        "colab_type": "code",
        "colab": {}
      },
      "source": [
        ""
      ],
      "execution_count": null,
      "outputs": []
    },
    {
      "cell_type": "markdown",
      "metadata": {
        "id": "5jjPY3m6O4_p",
        "colab_type": "text"
      },
      "source": [
        "Créer deux tableaux : l’un de la taille de votre choix et contenant des nombres entiers aléatoires (avec ```np.random.randint```) et l’autre à trois dimensions : 10x10x3, et contenant uniquement des zéros (avec ```np.zeros```)."
      ]
    },
    {
      "cell_type": "code",
      "metadata": {
        "id": "OHxpxGB1O4_q",
        "colab_type": "code",
        "colab": {}
      },
      "source": [
        ""
      ],
      "execution_count": null,
      "outputs": []
    },
    {
      "cell_type": "markdown",
      "metadata": {
        "id": "u04UJkufO4_t",
        "colab_type": "text"
      },
      "source": [
        "Créer un vecteur en récupérant trois valeurs dans votre tableau de nombres aléatoires. Puis, dans le tableau de zéros, remplacer toutes les valeurs de la cinquième colonne par le vecteur que vous venez de créer."
      ]
    },
    {
      "cell_type": "code",
      "metadata": {
        "id": "7v2kSiWuO4_u",
        "colab_type": "code",
        "colab": {}
      },
      "source": [
        ""
      ],
      "execution_count": null,
      "outputs": []
    },
    {
      "cell_type": "markdown",
      "metadata": {
        "id": "QOY_zg78O4_2",
        "colab_type": "text"
      },
      "source": [
        "Afficher le tableau de zéros avec la bibliothèque Matplotlib en complétant les instructions ci-dessous."
      ]
    },
    {
      "cell_type": "code",
      "metadata": {
        "id": "IoXivTGfO4_3",
        "colab_type": "code",
        "colab": {}
      },
      "source": [
        "# Instructions à écrire une seule fois dans tout le notebook : \n",
        "%matplotlib inline #pour que les graphiques s’affichent dans le notebook\n",
        "import matplotlib.pyplot as plot #pour importer le module pyplot de la bibliothèque Matplotlib. Pyplot permet de dessiner des graphiques\n",
        "\n",
        "fig, ax = plot.subplots(ncols=1)#déclare un graphique\n",
        "\n",
        "\n",
        "'''TODO : remplacer 'mon_tableau' par le nom de votre tableau créer dans les exercices précédents.'''\n",
        "ax.imshow(mon_tableau)#affiche une image/tableau dans le graphique"
      ],
      "execution_count": null,
      "outputs": []
    },
    {
      "cell_type": "code",
      "metadata": {
        "id": "nuToG7DDO4_5",
        "colab_type": "code",
        "colab": {}
      },
      "source": [
        ""
      ],
      "execution_count": null,
      "outputs": []
    },
    {
      "cell_type": "markdown",
      "metadata": {
        "id": "ZsBrCi8DO4_8",
        "colab_type": "text"
      },
      "source": [
        "## Températures moyennes à Montbéliard"
      ]
    },
    {
      "cell_type": "markdown",
      "metadata": {
        "id": "7FH_fvoCO4_8",
        "colab_type": "text"
      },
      "source": [
        "Organisation des données dans le tableau Numpy 'temp_montbeliard_france' :\n",
        "\n",
        "| Mois      |  Index du mois  | Montbéliard (index = 0) | France (index = 1) |\n",
        "|-----------|-----------------|-------------------------|--------------------|\n",
        "| Janvier   | 0               | 0.2                     | 5.4                |\n",
        "| Février   | 1               | 8.7                     | 11.3               |\n",
        "| Mars      | 2               | 13.6                    | 15.1               |\n",
        "| Avril     | 3               | 14.8                    | 16.6               |\n",
        "| Mai       | 4               | 20.3                    | 21.5               |\n",
        "| Juin      | 5               | 25.8                    | 26.2               |\n",
        "| Juillet   | 6               | 25.6                    | 26.1               |\n",
        "| Août      | 7               | 25.9                    | 26.1               |\n",
        "| Septembre | 8               | 18.5                    | 20.4               |\n",
        "| Octobre   | 9               | 16.8                    | 19                 |\n",
        "| Novembre  | 10              | 8.5                     | 11.2               |\n",
        "| Décembre  | 11              | 5                       | 8.1                |"
      ]
    },
    {
      "cell_type": "code",
      "metadata": {
        "id": "s3LvpexjO4_9",
        "colab_type": "code",
        "colab": {
          "base_uri": "https://localhost:8080/",
          "height": 232
        },
        "outputId": "687f1e19-ce4d-42bc-a588-4134eaf7d36b"
      },
      "source": [
        "temp_montbeliard_france = np.array([ # données linternaute.com, températures maximales 2017\n",
        "    [0.2, 5.4],\n",
        "    [8.7, 11.3],\n",
        "    [13.6, 15.1],\n",
        "    [14.8, 16.6],\n",
        "    [20.3, 21.5],\n",
        "    [25.8, 26.2],\n",
        "    [25.6, 26.1],\n",
        "    [25.9, 26.1],\n",
        "    [18.5, 20.4],\n",
        "    [16.8, 19],\n",
        "    [8.5, 11.2],\n",
        "    [5, 8.1]\n",
        "])\n",
        "\n",
        "# Exemples d'utilisation du tableau\n",
        "## Température maximale moyenne pour Montbéliard en juillet\n",
        "montbeliard_juillet = temp_montbeliard_france[6][0]\n",
        "print(\"A Montbéliard, en juillet, il faisait en moyenne\", montbeliard_juillet, \"degrés.\")"
      ],
      "execution_count": null,
      "outputs": [
        {
          "output_type": "error",
          "ename": "NameError",
          "evalue": "ignored",
          "traceback": [
            "\u001b[0;31m---------------------------------------------------------------------------\u001b[0m",
            "\u001b[0;31mNameError\u001b[0m                                 Traceback (most recent call last)",
            "\u001b[0;32m<ipython-input-1-25472ecbfbba>\u001b[0m in \u001b[0;36m<module>\u001b[0;34m()\u001b[0m\n\u001b[0;32m----> 1\u001b[0;31m temp_montbeliard_france = np.array([ # données linternaute.com, températures maximales 2017\n\u001b[0m\u001b[1;32m      2\u001b[0m     \u001b[0;34m[\u001b[0m\u001b[0;36m0.2\u001b[0m\u001b[0;34m,\u001b[0m \u001b[0;36m5.4\u001b[0m\u001b[0;34m]\u001b[0m\u001b[0;34m,\u001b[0m\u001b[0;34m\u001b[0m\u001b[0;34m\u001b[0m\u001b[0m\n\u001b[1;32m      3\u001b[0m     \u001b[0;34m[\u001b[0m\u001b[0;36m8.7\u001b[0m\u001b[0;34m,\u001b[0m \u001b[0;36m11.3\u001b[0m\u001b[0;34m]\u001b[0m\u001b[0;34m,\u001b[0m\u001b[0;34m\u001b[0m\u001b[0;34m\u001b[0m\u001b[0m\n\u001b[1;32m      4\u001b[0m     \u001b[0;34m[\u001b[0m\u001b[0;36m13.6\u001b[0m\u001b[0;34m,\u001b[0m \u001b[0;36m15.1\u001b[0m\u001b[0;34m]\u001b[0m\u001b[0;34m,\u001b[0m\u001b[0;34m\u001b[0m\u001b[0;34m\u001b[0m\u001b[0m\n\u001b[1;32m      5\u001b[0m     \u001b[0;34m[\u001b[0m\u001b[0;36m14.8\u001b[0m\u001b[0;34m,\u001b[0m \u001b[0;36m16.6\u001b[0m\u001b[0;34m]\u001b[0m\u001b[0;34m,\u001b[0m\u001b[0;34m\u001b[0m\u001b[0;34m\u001b[0m\u001b[0m\n",
            "\u001b[0;31mNameError\u001b[0m: name 'np' is not defined"
          ]
        }
      ]
    },
    {
      "cell_type": "markdown",
      "metadata": {
        "id": "eNfJBo4fO5AA",
        "colab_type": "text"
      },
      "source": [
        "À partir du tableau de températures (températures maximales moyennes à Montbéliard et en France), créer 2 vecteurs : l’un contenant les températures pour Montbéliard et l’autre contenant les températures pour la France."
      ]
    },
    {
      "cell_type": "code",
      "metadata": {
        "id": "UY7kzVObO5AB",
        "colab_type": "code",
        "colab": {}
      },
      "source": [
        ""
      ],
      "execution_count": null,
      "outputs": []
    },
    {
      "cell_type": "markdown",
      "metadata": {
        "id": "xuFJTYvYO5AE",
        "colab_type": "text"
      },
      "source": [
        "Dans un graphique, dessiner la courbe des températures de Montbéliard en rouge et celle des températures de France en bleue.\n",
        "Personnaliser le graphique : changer le style de graphe, afficher une légende, ajouter des étiquettes aux axes, donner un titre au graphique.\n",
        "\n",
        "Exemple de résultat : https://framagit.org/psm_montbeliard/fdm/-/blob/master/Bases%20de%20Python/courbe_temp.png"
      ]
    },
    {
      "cell_type": "code",
      "metadata": {
        "id": "ngDzFxisO5AE",
        "colab_type": "code",
        "colab": {}
      },
      "source": [
        ""
      ],
      "execution_count": null,
      "outputs": []
    },
    {
      "cell_type": "markdown",
      "metadata": {
        "id": "OyuABGsHO5AH",
        "colab_type": "text"
      },
      "source": [
        "Dans un nouveau graphique, dessiner la courbe correspondant à l’écart de température entre la France et Montbéliard."
      ]
    },
    {
      "cell_type": "code",
      "metadata": {
        "id": "afIva09IO5AI",
        "colab_type": "code",
        "colab": {}
      },
      "source": [
        ""
      ],
      "execution_count": null,
      "outputs": []
    },
    {
      "cell_type": "markdown",
      "metadata": {
        "id": "Q0oDGayWO5AL",
        "colab_type": "text"
      },
      "source": [
        "## Boucles et conditions\n",
        "Écrire une fonction prenant en paramètre une liste. La fonction parcourt la liste à l’aide de range() et retourne dans une nouvelle liste : le nombre d’éléments, leur somme totale et le nombre d’éléments pairs."
      ]
    },
    {
      "cell_type": "code",
      "metadata": {
        "id": "lxw05M1PO5AM",
        "colab_type": "code",
        "colab": {}
      },
      "source": [
        ""
      ],
      "execution_count": null,
      "outputs": []
    }
  ]
}