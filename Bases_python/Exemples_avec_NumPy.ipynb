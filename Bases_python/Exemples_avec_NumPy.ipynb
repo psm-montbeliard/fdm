{
  "nbformat": 4,
  "nbformat_minor": 0,
  "metadata": {
    "kernelspec": {
      "display_name": "Python 3",
      "language": "python",
      "name": "python3"
    },
    "language_info": {
      "codemirror_mode": {
        "name": "ipython",
        "version": 3
      },
      "file_extension": ".py",
      "mimetype": "text/x-python",
      "name": "python",
      "nbconvert_exporter": "python",
      "pygments_lexer": "ipython3",
      "version": "3.7.4"
    },
    "colab": {
      "name": "Exemples avec NumPy.ipynb",
      "provenance": [],
      "include_colab_link": true
    }
  },
  "cells": [
    {
      "cell_type": "markdown",
      "metadata": {
        "id": "view-in-github",
        "colab_type": "text"
      },
      "source": [
        "<a href=\"https://colab.research.google.com/github/psm-montbeliard/fdm/blob/master/Bases_python/Exemples_avec_NumPy.ipynb\" target=\"_parent\"><img src=\"https://colab.research.google.com/assets/colab-badge.svg\" alt=\"Open In Colab\"/></a>"
      ]
    },
    {
      "cell_type": "markdown",
      "metadata": {
        "id": "uAGdM7E0U2PL",
        "colab_type": "text"
      },
      "source": [
        "# NumPy\n",
        "\n",
        "fournit un objet tableau multidimensionnel, pour le calcul mathématique, logique, manipulation de matrice, tri, I/O, transformées de Fourier discrètes, algèbre linéaire de base, opérations statistiques de base, simulation aléatoire ...¶\n",
        "\n",
        "http://www.numpy.org/"
      ]
    },
    {
      "cell_type": "markdown",
      "metadata": {
        "id": "KjqZVt4ZU2PN",
        "colab_type": "text"
      },
      "source": [
        "## ndarray - tableau N-dim\n",
        "## ndarray = numpy.array <> array.array (UNI-dim)¶"
      ]
    },
    {
      "cell_type": "code",
      "metadata": {
        "id": "xamUHO0KU2PN",
        "colab_type": "code",
        "colab": {},
        "outputId": "005b8662-eddf-41d4-9e32-68e1bf71c2e8"
      },
      "source": [
        "# Array\n",
        "tableau = [[1,2,3],[10, 20, 30]]\n",
        "print(type(tableau))\n",
        "print(tableau)    #liste de liste, sur une ligne\n",
        "print(len(tableau))\n",
        "print(len(tableau[0]))"
      ],
      "execution_count": null,
      "outputs": [
        {
          "output_type": "stream",
          "text": [
            "<class 'list'>\n",
            "[[1, 2, 3], [10, 20, 30]]\n",
            "2\n",
            "3\n"
          ],
          "name": "stdout"
        }
      ]
    },
    {
      "cell_type": "code",
      "metadata": {
        "id": "IyojQxnXU2PT",
        "colab_type": "code",
        "colab": {},
        "outputId": "c8e40256-a746-44bc-9ca4-1489384ff066"
      },
      "source": [
        "# transformation d'une liste en nparray\n",
        "import numpy as np\n",
        "tableau_Ndim = np.array(tableau)\n",
        "print(type(tableau_Ndim))\n",
        "print(tableau_Ndim)    # liste de liste, sur la verticale\n",
        "print(tableau_Ndim.shape)"
      ],
      "execution_count": null,
      "outputs": [
        {
          "output_type": "stream",
          "text": [
            "<class 'numpy.ndarray'>\n",
            "[[ 1  2  3]\n",
            " [10 20 30]]\n",
            "(2, 3)\n"
          ],
          "name": "stdout"
        }
      ]
    },
    {
      "cell_type": "code",
      "metadata": {
        "id": "3jE2TPp1U2PW",
        "colab_type": "code",
        "colab": {},
        "outputId": "59c59129-b086-40a0-cf07-67b56d923d5b"
      },
      "source": [
        "vecteur = np.arange(10, 85, 5)\n",
        "# ndim - nb. d’axes\n",
        "vecteur.ndim"
      ],
      "execution_count": null,
      "outputs": [
        {
          "output_type": "execute_result",
          "data": {
            "text/plain": [
              "1"
            ]
          },
          "metadata": {
            "tags": []
          },
          "execution_count": 5
        }
      ]
    },
    {
      "cell_type": "code",
      "metadata": {
        "id": "TFMAK7KdU2PZ",
        "colab_type": "code",
        "colab": {},
        "outputId": "1272c86e-1913-4472-b2ed-f0d2d1af9233"
      },
      "source": [
        "# shape - taille du tableau sur chaque axes\n",
        "vecteur.shape"
      ],
      "execution_count": null,
      "outputs": [
        {
          "output_type": "execute_result",
          "data": {
            "text/plain": [
              "(15,)"
            ]
          },
          "metadata": {
            "tags": []
          },
          "execution_count": 6
        }
      ]
    },
    {
      "cell_type": "code",
      "metadata": {
        "id": "sRz0Q4-jU2Pf",
        "colab_type": "code",
        "colab": {},
        "outputId": "a7fe1803-d7ee-4265-8d31-6f79bea6997d"
      },
      "source": [
        "# dtype - type de données\n",
        "vecteur.dtype.name"
      ],
      "execution_count": null,
      "outputs": [
        {
          "output_type": "execute_result",
          "data": {
            "text/plain": [
              "'int64'"
            ]
          },
          "metadata": {
            "tags": []
          },
          "execution_count": 7
        }
      ]
    },
    {
      "cell_type": "code",
      "metadata": {
        "id": "bYsLIDiWU2Pi",
        "colab_type": "code",
        "colab": {},
        "outputId": "e6a794d1-9905-4c86-8227-04a9c2294d3d"
      },
      "source": [
        "#construction directe d'une matrice ndarray\n",
        "matrice = np.array([[12, 10, 20], [7, 12, 75], [20, 25, 15]])\n",
        "matrice.ndim"
      ],
      "execution_count": null,
      "outputs": [
        {
          "output_type": "execute_result",
          "data": {
            "text/plain": [
              "2"
            ]
          },
          "metadata": {
            "tags": []
          },
          "execution_count": 8
        }
      ]
    },
    {
      "cell_type": "code",
      "metadata": {
        "id": "d_HEcUbpU2Pl",
        "colab_type": "code",
        "colab": {},
        "outputId": "56359f0b-fd0c-4a11-e42d-b1469606e6d2"
      },
      "source": [
        "print(matrice)"
      ],
      "execution_count": null,
      "outputs": [
        {
          "output_type": "stream",
          "text": [
            "[[12 10 20]\n",
            " [ 7 12 75]\n",
            " [20 25 15]]\n"
          ],
          "name": "stdout"
        }
      ]
    },
    {
      "cell_type": "code",
      "metadata": {
        "id": "cP9usnkuU2Pp",
        "colab_type": "code",
        "colab": {},
        "outputId": "7ec7e8c6-0132-4da8-844a-b367d5daee32"
      },
      "source": [
        "matrice = vecteur.reshape(3,5)\n",
        "matrice.ndim"
      ],
      "execution_count": null,
      "outputs": [
        {
          "output_type": "execute_result",
          "data": {
            "text/plain": [
              "2"
            ]
          },
          "metadata": {
            "tags": []
          },
          "execution_count": 10
        }
      ]
    },
    {
      "cell_type": "code",
      "metadata": {
        "id": "NMEbmn8bU2Ps",
        "colab_type": "code",
        "colab": {},
        "outputId": "40ddd920-b103-48a5-eed2-8edc7896c236"
      },
      "source": [
        "matrice.shape"
      ],
      "execution_count": null,
      "outputs": [
        {
          "output_type": "execute_result",
          "data": {
            "text/plain": [
              "(3, 5)"
            ]
          },
          "metadata": {
            "tags": []
          },
          "execution_count": 11
        }
      ]
    },
    {
      "cell_type": "code",
      "metadata": {
        "id": "F7ubKT2yU2Pu",
        "colab_type": "code",
        "colab": {},
        "outputId": "d09a30c4-d736-4404-ad62-a582543b0307"
      },
      "source": [
        "matrice"
      ],
      "execution_count": null,
      "outputs": [
        {
          "output_type": "execute_result",
          "data": {
            "text/plain": [
              "array([[10, 15, 20, 25, 30],\n",
              "       [35, 40, 45, 50, 55],\n",
              "       [60, 65, 70, 75, 80]])"
            ]
          },
          "metadata": {
            "tags": []
          },
          "execution_count": 12
        }
      ]
    },
    {
      "cell_type": "code",
      "metadata": {
        "id": "C1N46XRKU2Px",
        "colab_type": "code",
        "colab": {},
        "outputId": "b51b92fe-a31f-4d0d-9e60-66d1391c9c19"
      },
      "source": [
        "# size - nb. total  d’éléments\n",
        "matrice.size"
      ],
      "execution_count": null,
      "outputs": [
        {
          "output_type": "execute_result",
          "data": {
            "text/plain": [
              "15"
            ]
          },
          "metadata": {
            "tags": []
          },
          "execution_count": 13
        }
      ]
    },
    {
      "cell_type": "code",
      "metadata": {
        "id": "d-9JqeRFU2P0",
        "colab_type": "code",
        "colab": {},
        "outputId": "9339dacb-a806-46f9-f0a0-b725da2bcf4f"
      },
      "source": [
        "# itemsize - taille en octets de chaque élément\n",
        "matrice.itemsize"
      ],
      "execution_count": null,
      "outputs": [
        {
          "output_type": "execute_result",
          "data": {
            "text/plain": [
              "8"
            ]
          },
          "metadata": {
            "tags": []
          },
          "execution_count": 14
        }
      ]
    },
    {
      "cell_type": "code",
      "metadata": {
        "id": "LjAYSFKGU2P3",
        "colab_type": "code",
        "colab": {},
        "outputId": "d0e6ea72-0564-49f5-9fc4-613c890ca6d1"
      },
      "source": [
        "# Affectation d'un élément\n",
        "matrice[1, 3] = 18\n",
        "matrice"
      ],
      "execution_count": null,
      "outputs": [
        {
          "output_type": "execute_result",
          "data": {
            "text/plain": [
              "array([[10, 15, 20, 25, 30],\n",
              "       [35, 40, 45, 18, 55],\n",
              "       [60, 65, 70, 75, 80]])"
            ]
          },
          "metadata": {
            "tags": []
          },
          "execution_count": 15
        }
      ]
    },
    {
      "cell_type": "code",
      "metadata": {
        "id": "mM4jkzOBU2P6",
        "colab_type": "code",
        "colab": {},
        "outputId": "b652d548-899f-4b6e-8964-0f1ffb7e9848"
      },
      "source": [
        "# récupérer une ligne\n",
        "ligne = matrice[1, :]\n",
        "ligne"
      ],
      "execution_count": null,
      "outputs": [
        {
          "output_type": "execute_result",
          "data": {
            "text/plain": [
              "array([35, 40, 45, 18, 55])"
            ]
          },
          "metadata": {
            "tags": []
          },
          "execution_count": 16
        }
      ]
    },
    {
      "cell_type": "code",
      "metadata": {
        "id": "wLqUAM6YU2P9",
        "colab_type": "code",
        "colab": {},
        "outputId": "b3f06b8f-d1ee-44ab-a7e1-e5a837342a4a"
      },
      "source": [
        "# récupérer une colonne\n",
        "col = matrice[:, 3]\n",
        "col"
      ],
      "execution_count": null,
      "outputs": [
        {
          "output_type": "execute_result",
          "data": {
            "text/plain": [
              "array([25, 18, 75])"
            ]
          },
          "metadata": {
            "tags": []
          },
          "execution_count": 17
        }
      ]
    },
    {
      "cell_type": "code",
      "metadata": {
        "id": "FkXCWJL4U2QA",
        "colab_type": "code",
        "colab": {},
        "outputId": "a4ffd479-83a0-41cb-dd6b-b8274938b6e3"
      },
      "source": [
        "# récupérer plusieurs lignes\n",
        "lignes2et3 = matrice[1:3, :]\n",
        "lignes2et3"
      ],
      "execution_count": null,
      "outputs": [
        {
          "output_type": "execute_result",
          "data": {
            "text/plain": [
              "array([[35, 40, 45, 18, 55],\n",
              "       [60, 65, 70, 75, 80]])"
            ]
          },
          "metadata": {
            "tags": []
          },
          "execution_count": 18
        }
      ]
    },
    {
      "cell_type": "code",
      "metadata": {
        "id": "uyOluA4bU2QD",
        "colab_type": "code",
        "colab": {},
        "outputId": "e0a03f99-ffb6-4294-caf9-27a086cce5be"
      },
      "source": [
        "# récupérer les deux dernières colonnes\n",
        "last2Col = matrice[:, -2:]\n",
        "last2Col"
      ],
      "execution_count": null,
      "outputs": [
        {
          "output_type": "execute_result",
          "data": {
            "text/plain": [
              "array([[25, 30],\n",
              "       [18, 55],\n",
              "       [75, 80]])"
            ]
          },
          "metadata": {
            "tags": []
          },
          "execution_count": 19
        }
      ]
    },
    {
      "cell_type": "code",
      "metadata": {
        "id": "X9aSFCX8U2QG",
        "colab_type": "code",
        "colab": {},
        "outputId": "76695e5c-54f4-4c31-85ed-4c880674b641"
      },
      "source": [
        "matrice = np.transpose(matrice)\n",
        "matrice"
      ],
      "execution_count": null,
      "outputs": [
        {
          "output_type": "execute_result",
          "data": {
            "text/plain": [
              "array([[10, 35, 60],\n",
              "       [15, 40, 65],\n",
              "       [20, 45, 70],\n",
              "       [25, 18, 75],\n",
              "       [30, 55, 80]])"
            ]
          },
          "metadata": {
            "tags": []
          },
          "execution_count": 20
        }
      ]
    },
    {
      "cell_type": "code",
      "metadata": {
        "id": "RpkqGM4hU2QI",
        "colab_type": "code",
        "colab": {},
        "outputId": "ddc09813-c4b4-419e-fcdd-d327292eebf0"
      },
      "source": [
        "matrice = np.arange(10, 100, 10).reshape(3,3)\n",
        "import numpy.linalg as lin\n",
        "print(lin.norm(matrice))\n",
        "print(lin.det(matrice))\n",
        "matrice"
      ],
      "execution_count": null,
      "outputs": [
        {
          "output_type": "stream",
          "text": [
            "168.81943016134133\n",
            "-1.5225915766287873e-13\n"
          ],
          "name": "stdout"
        },
        {
          "output_type": "execute_result",
          "data": {
            "text/plain": [
              "array([[10, 20, 30],\n",
              "       [40, 50, 60],\n",
              "       [70, 80, 90]])"
            ]
          },
          "metadata": {
            "tags": []
          },
          "execution_count": 21
        }
      ]
    },
    {
      "cell_type": "code",
      "metadata": {
        "id": "8luMCpnXU2QM",
        "colab_type": "code",
        "colab": {},
        "outputId": "7f2bd478-3ba5-4561-b1f1-9c3e3c3027ff"
      },
      "source": [
        "# création d'une tableau N-dim (ex matrice 2x3)\n",
        "matrice_A = np.array( [ (2, 4, 6), (1, 3, 5)], dtype = np.float64)\n",
        "matrice_A"
      ],
      "execution_count": null,
      "outputs": [
        {
          "output_type": "execute_result",
          "data": {
            "text/plain": [
              "array([[2., 4., 6.],\n",
              "       [1., 3., 5.]])"
            ]
          },
          "metadata": {
            "tags": []
          },
          "execution_count": 22
        }
      ]
    },
    {
      "cell_type": "code",
      "metadata": {
        "id": "0XGN0jC5U2QP",
        "colab_type": "code",
        "colab": {},
        "outputId": "ea7fc5cb-a234-4276-a003-832bf03ea2a8"
      },
      "source": [
        "# numpy.linspace(start, stop, num=50, endpoint=True, retstep=False, dtype=None)\n",
        "serie = np.linspace(0, 4, 9)\n",
        "serie"
      ],
      "execution_count": null,
      "outputs": [
        {
          "output_type": "execute_result",
          "data": {
            "text/plain": [
              "array([0. , 0.5, 1. , 1.5, 2. , 2.5, 3. , 3.5, 4. ])"
            ]
          },
          "metadata": {
            "tags": []
          },
          "execution_count": 23
        }
      ]
    },
    {
      "cell_type": "code",
      "metadata": {
        "id": "lre_wW_RU2QR",
        "colab_type": "code",
        "colab": {}
      },
      "source": [
        "from numpy import pi\n",
        "x = np.linspace(0, 2*pi, 100)\n",
        "y = np.sin(x)"
      ],
      "execution_count": null,
      "outputs": []
    },
    {
      "cell_type": "code",
      "metadata": {
        "id": "Q1W4TNBWU2QU",
        "colab_type": "code",
        "colab": {},
        "outputId": "6b24d476-005e-4311-e01f-804ce2cf1a86"
      },
      "source": [
        "import matplotlib.pyplot as plot\n",
        "plot.plot(x, y)"
      ],
      "execution_count": null,
      "outputs": [
        {
          "output_type": "execute_result",
          "data": {
            "text/plain": [
              "[<matplotlib.lines.Line2D at 0x7ffbcb01fe50>]"
            ]
          },
          "metadata": {
            "tags": []
          },
          "execution_count": 28
        },
        {
          "output_type": "display_data",
          "data": {
            "image/png": "[encoded data removed]",
            "text/plain": [
              "<Figure size 432x288 with 1 Axes>"
            ]
          },
          "metadata": {
            "tags": [],
            "needs_background": "light"
          }
        }
      ]
    },
    {
      "cell_type": "markdown",
      "metadata": {
        "id": "Lgxxc__vU2QW",
        "colab_type": "text"
      },
      "source": [
        "# Matrices spéciales"
      ]
    },
    {
      "cell_type": "code",
      "metadata": {
        "id": "qCwXjwfUU2QX",
        "colab_type": "code",
        "colab": {},
        "outputId": "5fdb7f86-8b34-4491-d8e9-3aed50879eb5"
      },
      "source": [
        "# Matrice avec m(i,i) = 1;   np.eye([i,j])\n",
        "E = np.eye(4, 3)\n",
        "print(E)"
      ],
      "execution_count": null,
      "outputs": [
        {
          "output_type": "stream",
          "text": [
            "[[1. 0. 0.]\n",
            " [0. 1. 0.]\n",
            " [0. 0. 1.]\n",
            " [0. 0. 0.]]\n"
          ],
          "name": "stdout"
        }
      ]
    },
    {
      "cell_type": "code",
      "metadata": {
        "id": "mYLr_HWVU2QZ",
        "colab_type": "code",
        "colab": {},
        "outputId": "a2d37f57-a373-4904-e284-e686c67da6fc"
      },
      "source": [
        "# matrice avec tous les éléments à 0\n",
        "Z = np.zeros([2,3])\n",
        "print(Z)\n",
        "# matrice avec tous les éléments à 1\n",
        "U = np.ones([2,3])\n",
        "print(U)"
      ],
      "execution_count": null,
      "outputs": [
        {
          "output_type": "stream",
          "text": [
            "[[0. 0. 0.]\n",
            " [0. 0. 0.]]\n",
            "[[1. 1. 1.]\n",
            " [1. 1. 1.]]\n"
          ],
          "name": "stdout"
        }
      ]
    },
    {
      "cell_type": "markdown",
      "metadata": {
        "id": "FppRt7PmU2Qd",
        "colab_type": "text"
      },
      "source": [
        "# Opérations de base"
      ]
    },
    {
      "cell_type": "code",
      "metadata": {
        "id": "zgauXyn_U2Qd",
        "colab_type": "code",
        "colab": {},
        "outputId": "eb11ab56-f341-4d69-918f-2c5341a94d26"
      },
      "source": [
        "a = np.arange(10, 60, 20)\n",
        "b = np.arange(2, 7, 2)\n",
        "print('a = ', a)\n",
        "print('b = ', b)"
      ],
      "execution_count": null,
      "outputs": [
        {
          "output_type": "stream",
          "text": [
            "a =  [10 30 50]\n",
            "b =  [2 4 6]\n"
          ],
          "name": "stdout"
        }
      ]
    },
    {
      "cell_type": "code",
      "metadata": {
        "id": "eFGspgKrU2Qg",
        "colab_type": "code",
        "colab": {},
        "outputId": "31c5b4b2-e8dc-4f8f-d7df-525fbbedfb51"
      },
      "source": [
        "c = a + b # a - b; a * b ; a / b\n",
        "print('a + b = ', c)\n",
        "d = b**2\n",
        "print('b**2 = ', d)\n",
        "e = 10 * np.cos(b)\n",
        "e < 0"
      ],
      "execution_count": null,
      "outputs": [
        {
          "output_type": "stream",
          "text": [
            "a + b =  [12 34 56]\n",
            "b**2 =  [ 4 16 36]\n"
          ],
          "name": "stdout"
        },
        {
          "output_type": "execute_result",
          "data": {
            "text/plain": [
              "array([ True,  True, False])"
            ]
          },
          "metadata": {
            "tags": []
          },
          "execution_count": 32
        }
      ]
    },
    {
      "cell_type": "code",
      "metadata": {
        "id": "Qi7x5JZOU2Qk",
        "colab_type": "code",
        "colab": {}
      },
      "source": [
        "# @ - operateur pour le produit des matrices\n",
        "valeurs = np.arange(6)"
      ],
      "execution_count": null,
      "outputs": []
    },
    {
      "cell_type": "code",
      "metadata": {
        "id": "kIa3tBTjU2Qn",
        "colab_type": "code",
        "colab": {},
        "outputId": "503456fa-f95c-4cb9-a450-c3406169fc0b"
      },
      "source": [
        "valeurs"
      ],
      "execution_count": null,
      "outputs": [
        {
          "output_type": "execute_result",
          "data": {
            "text/plain": [
              "array([0, 1, 2, 3, 4, 5])"
            ]
          },
          "metadata": {
            "tags": []
          },
          "execution_count": 34
        }
      ]
    },
    {
      "cell_type": "code",
      "metadata": {
        "id": "c7FUCLykU2Qp",
        "colab_type": "code",
        "colab": {},
        "outputId": "a139f233-a438-4abf-cc9f-75f6b7ea6eef"
      },
      "source": [
        "A = valeurs.reshape(2,3)\n",
        "B = valeurs.reshape(3,2)\n",
        "print('A = ', A)\n",
        "print('B = ', B)"
      ],
      "execution_count": null,
      "outputs": [
        {
          "output_type": "stream",
          "text": [
            "A =  [[0 1 2]\n",
            " [3 4 5]]\n",
            "B =  [[0 1]\n",
            " [2 3]\n",
            " [4 5]]\n"
          ],
          "name": "stdout"
        }
      ]
    },
    {
      "cell_type": "code",
      "metadata": {
        "id": "WdM-9mUzU2Qt",
        "colab_type": "code",
        "colab": {},
        "outputId": "81257d15-b929-43d1-b6d1-80482c2de455"
      },
      "source": [
        "# produit de deux mmatrices\n",
        "print('A @ B = ', A @ B)\n",
        "# deuxième solution\n",
        "N = A.dot(B)\n",
        "print(N)"
      ],
      "execution_count": null,
      "outputs": [
        {
          "output_type": "stream",
          "text": [
            "A @ B =  [[10 13]\n",
            " [28 40]]\n",
            "[[10 13]\n",
            " [28 40]]\n"
          ],
          "name": "stdout"
        }
      ]
    },
    {
      "cell_type": "code",
      "metadata": {
        "id": "Lr2p1dB9U2Qw",
        "colab_type": "code",
        "colab": {},
        "outputId": "47bdbcc7-6c41-45bf-ad6e-35cf135e31a9"
      },
      "source": [
        "# += ou *= \n",
        "A = np.ones((2,3), dtype=int)\n",
        "A += 4\n",
        "print(A)\n",
        "B = np.random.random((2,3))\n",
        "B *= 10\n",
        "print(B)"
      ],
      "execution_count": null,
      "outputs": [
        {
          "output_type": "stream",
          "text": [
            "[[5 5 5]\n",
            " [5 5 5]]\n",
            "[[2.95825817 0.18275981 2.44856109]\n",
            " [1.12218065 5.07872145 0.92042639]]\n"
          ],
          "name": "stdout"
        }
      ]
    },
    {
      "cell_type": "code",
      "metadata": {
        "id": "7v3lsCtQU2Qz",
        "colab_type": "code",
        "colab": {},
        "outputId": "4b06183f-d54d-4c74-acc2-847219addf52"
      },
      "source": [
        "M = np.arange(15).reshape(3,5)\n",
        "M\n"
      ],
      "execution_count": null,
      "outputs": [
        {
          "output_type": "execute_result",
          "data": {
            "text/plain": [
              "array([[ 0,  1,  2,  3,  4],\n",
              "       [ 5,  6,  7,  8,  9],\n",
              "       [10, 11, 12, 13, 14]])"
            ]
          },
          "metadata": {
            "tags": []
          },
          "execution_count": 38
        }
      ]
    },
    {
      "cell_type": "code",
      "metadata": {
        "id": "vqYG1-F2U2Q1",
        "colab_type": "code",
        "colab": {},
        "outputId": "f5f71fd3-972c-4ce2-96fa-dc3e4ad5f438"
      },
      "source": [
        "# somme par ligne (axis=0) / colonne (axis=1)\n",
        "M.sum(axis=0)"
      ],
      "execution_count": null,
      "outputs": [
        {
          "output_type": "execute_result",
          "data": {
            "text/plain": [
              "array([15, 18, 21, 24, 27])"
            ]
          },
          "metadata": {
            "tags": []
          },
          "execution_count": 39
        }
      ]
    },
    {
      "cell_type": "code",
      "metadata": {
        "id": "1xG-CixuU2Q4",
        "colab_type": "code",
        "colab": {},
        "outputId": "e1c5a2a1-daca-4505-f76d-a240ee943a84"
      },
      "source": [
        "# élément minimal par ligne (axis=0) / colonne (axis=1)\n",
        "M.min(axis=1)"
      ],
      "execution_count": null,
      "outputs": [
        {
          "output_type": "execute_result",
          "data": {
            "text/plain": [
              "array([ 0,  5, 10])"
            ]
          },
          "metadata": {
            "tags": []
          },
          "execution_count": 40
        }
      ]
    },
    {
      "cell_type": "code",
      "metadata": {
        "id": "zTq1MGHmU2Q7",
        "colab_type": "code",
        "colab": {},
        "outputId": "46aaca55-9057-48e2-e678-d701726dcd24"
      },
      "source": [
        "# somme deux par deux lignes (axis=0 ) / colonnes (axis=1)\n",
        "M.cumsum(axis=0)"
      ],
      "execution_count": null,
      "outputs": [
        {
          "output_type": "execute_result",
          "data": {
            "text/plain": [
              "array([[ 0,  1,  2,  3,  4],\n",
              "       [ 5,  7,  9, 11, 13],\n",
              "       [15, 18, 21, 24, 27]])"
            ]
          },
          "metadata": {
            "tags": []
          },
          "execution_count": 41
        }
      ]
    },
    {
      "cell_type": "code",
      "metadata": {
        "id": "dbuq21_pU2Q_",
        "colab_type": "code",
        "colab": {},
        "outputId": "49e61d47-e74d-4854-b599-a3a8b9d83427"
      },
      "source": [
        "# Fonctions universalles (ufunc)\n",
        "N = np.arange(4)\n",
        "N"
      ],
      "execution_count": null,
      "outputs": [
        {
          "output_type": "execute_result",
          "data": {
            "text/plain": [
              "array([0, 1, 2, 3])"
            ]
          },
          "metadata": {
            "tags": []
          },
          "execution_count": 42
        }
      ]
    },
    {
      "cell_type": "code",
      "metadata": {
        "id": "-TGexi1PU2RD",
        "colab_type": "code",
        "colab": {},
        "outputId": "f55d5508-918e-49b9-80e0-34c5e7a9f0bf"
      },
      "source": [
        "print(np.exp(N), '\\n', np.sqrt(N))"
      ],
      "execution_count": null,
      "outputs": [
        {
          "output_type": "stream",
          "text": [
            "[ 1.          2.71828183  7.3890561  20.08553692] \n",
            " [0.         1.         1.41421356 1.73205081]\n"
          ],
          "name": "stdout"
        }
      ]
    },
    {
      "cell_type": "code",
      "metadata": {
        "id": "VLUbAhRlU2RF",
        "colab_type": "code",
        "colab": {}
      },
      "source": [
        ""
      ],
      "execution_count": null,
      "outputs": []
    }
  ]
}