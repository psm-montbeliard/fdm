{
  "nbformat": 4,
  "nbformat_minor": 0,
  "metadata": {
    "kernelspec": {
      "display_name": "Python 3",
      "language": "python",
      "name": "python3"
    },
    "language_info": {
      "codemirror_mode": {
        "name": "ipython",
        "version": 3
      },
      "file_extension": ".py",
      "mimetype": "text/x-python",
      "name": "python",
      "nbconvert_exporter": "python",
      "pygments_lexer": "ipython3",
      "version": "3.7.4"
    },
    "colab": {
      "name": "Exemples_avec_Skimage.ipynb",
      "provenance": [],
      "collapsed_sections": [],
      "include_colab_link": true
    }
  },
  "cells": [
    {
      "cell_type": "markdown",
      "metadata": {
        "id": "view-in-github",
        "colab_type": "text"
      },
      "source": [
        "<a href=\"https://colab.research.google.com/github/psm-montbeliard/fdm/blob/master/Couleurs/Exemples_avec_Skimage.ipynb\" target=\"_parent\"><img src=\"https://colab.research.google.com/assets/colab-badge.svg\" alt=\"Open In Colab\"/></a>"
      ]
    },
    {
      "cell_type": "code",
      "metadata": {
        "id": "8kmW_-AaGVqb",
        "colab_type": "code",
        "colab": {}
      },
      "source": [
        "# Bibliothèque graphique Qt5\n",
        "import matplotlib\n",
        "matplotlib.use(\"Qt5Agg\")\n",
        "# Bibliothèque manipulation d'images\n",
        "from skimage.viewer import ImageViewer\n",
        "# Bibliothèqe Numpy\n",
        "import numpy as np"
      ],
      "execution_count": null,
      "outputs": []
    },
    {
      "cell_type": "code",
      "metadata": {
        "id": "CnL_MRkUGVqg",
        "colab_type": "code",
        "colab": {}
      },
      "source": [
        "# Création d'un tableau de zeros aux dimensions 4x3x3 (hauteur x largeur x codage couleur)\n",
        "image_noire = np.zeros((4,3,3), dtype = np.uint8)\n",
        "# Affichage de mon tableau\n",
        "image_noire"
      ],
      "execution_count": null,
      "outputs": []
    },
    {
      "cell_type": "code",
      "metadata": {
        "id": "4Gik06cKGVql",
        "colab_type": "code",
        "colab": {},
        "outputId": "ce4d8875-e7c7-4409-99ba-9c614baaa878"
      },
      "source": [
        "# Modification de la première ligne de mon tableau : transformation des pixels noirs par des pixels gris\n",
        "image_noire[:1] = [127, 127, 127]\n",
        "# Affichage\n",
        "image_noire"
      ],
      "execution_count": null,
      "outputs": [
        {
          "output_type": "execute_result",
          "data": {
            "text/plain": [
              "array([[[127, 127, 127],\n",
              "        [127, 127, 127],\n",
              "        [127, 127, 127]],\n",
              "\n",
              "       [[  0,   0,   0],\n",
              "        [  0,   0,   0],\n",
              "        [  0,   0,   0]],\n",
              "\n",
              "       [[  0,   0,   0],\n",
              "        [  0,   0,   0],\n",
              "        [  0,   0,   0]],\n",
              "\n",
              "       [[  0,   0,   0],\n",
              "        [  0,   0,   0],\n",
              "        [  0,   0,   0]]], dtype=uint8)"
            ]
          },
          "metadata": {
            "tags": []
          },
          "execution_count": 3
        }
      ]
    },
    {
      "cell_type": "code",
      "metadata": {
        "id": "RXqoznhBGVqo",
        "colab_type": "code",
        "colab": {},
        "outputId": "9f4b1648-61cf-4f66-8d2b-37179d7696e2"
      },
      "source": [
        "# Création d'un ImageViewer auquel est associé mon tableau de zeros\n",
        "viewer = ImageViewer(image_noire)\n",
        "# Affichage de l'ImageViewer\n",
        "viewer.show()"
      ],
      "execution_count": null,
      "outputs": [
        {
          "output_type": "execute_result",
          "data": {
            "text/plain": [
              "[]"
            ]
          },
          "metadata": {
            "tags": []
          },
          "execution_count": 4
        }
      ]
    },
    {
      "cell_type": "code",
      "metadata": {
        "id": "n6wLe0p1GVqs",
        "colab_type": "code",
        "colab": {}
      },
      "source": [
        "from skimage.viewer import ImageViewer # Pour utiliser la fonction ImageViewer\n",
        "from skimage.viewer.plugins import Plugin # Pour créer la zone Plugin\n",
        "from skimage.viewer import widgets # Pour ajouter des éléments interactifs (slider, liste déroulante, boutons)\n",
        "import numpy as np # Pour créer des tableaux multi-dimensionnels\n",
        "\n",
        "# Créer le viewer et associer une image\n",
        "image = np.zeros((10,10,3), dtype=np.uint8)\n",
        "viewer  = ImageViewer(image)\n",
        "\n",
        "# Créer le plugin qui va contenir nos widgets\n",
        "def changeCouleur(image, choixListe):\n",
        "    if choixListe == \"ligne\":\n",
        "      image[:1] = [127, 127, 127]\n",
        "    else:\n",
        "      image = np.zeros((10,10,3), dtype=np.uint8)\n",
        "    return image\n",
        "\n",
        "plugin = Plugin(image_filter = changeCouleur)\n",
        "\n",
        "# Ajouter auplugin un widget de type Liste déroulante (ComboBox)\n",
        "plugin += widgets.ComboBox(\"choixListe\", [\"ligne_grise\", \"image_originlae\"])\n",
        "\n",
        "# Ajouter le plugin au viewer\n",
        "viewer += plugin\n",
        "\n",
        "# Afficher le viewer\n",
        "viewer.show()"
      ],
      "execution_count": null,
      "outputs": []
    },
    {
      "cell_type": "code",
      "metadata": {
        "id": "lNtdsfEwGVqv",
        "colab_type": "code",
        "colab": {}
      },
      "source": [
        ""
      ],
      "execution_count": null,
      "outputs": []
    }
  ]
}